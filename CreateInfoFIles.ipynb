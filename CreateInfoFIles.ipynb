{
 "cells": [
  {
   "cell_type": "code",
   "execution_count": 1,
   "id": "060c88d2",
   "metadata": {},
   "outputs": [],
   "source": [
    "script(\"tarballs\");"
   ]
  },
  {
   "cell_type": "code",
   "execution_count": 2,
   "id": "359f473b",
   "metadata": {},
   "outputs": [],
   "source": [
    "@P3 = unpack_tarball(\"fano-v3d.tgz\");"
   ]
  },
  {
   "cell_type": "code",
   "execution_count": 3,
   "id": "0f6d17d2",
   "metadata": {},
   "outputs": [],
   "source": [
    "@P4 = unpack_tarball(\"fano-v4d.tgz\");"
   ]
  },
  {
   "cell_type": "code",
   "execution_count": null,
   "id": "14ecd621",
   "metadata": {},
   "outputs": [],
   "source": [
    "@P5 = unpack_tarball(\"fano-v5d.tgz\");"
   ]
  },
  {
   "cell_type": "code",
   "execution_count": 4,
   "id": "1e9d0402",
   "metadata": {},
   "outputs": [],
   "source": [
    "sub Bilateral {\n",
    "    $rows = $_[0]->rows();\n",
    "    $cols = $_[0]->cols();\n",
    "    $b = 0;\n",
    "    \n",
    "    for (my $row = 0; $row < $rows; $row += 1) {\n",
    "        $neg_orth = 1;\n",
    "        $basis = 1;\n",
    "        $summa = 0;\n",
    "        for (my $col = 0; $col < $cols; $col += 1) {\n",
    "            $elem = $_[0]->elem($row, $col);\n",
    "            $summa += $elem;\n",
    "            if ($elem < 0 or $elem > 1 or $summa > 1) {$basis = 0;}\n",
    "            if ($elem > 0)  {$neg_orth = 0;}\n",
    "        }\n",
    "        if ($basis == 1 and $summa == 0) {$basis = 0;}\n",
    "        if (not ($basis == 1 or $neg_orth == 1)) {return 0;}\n",
    "        $b = $b + $basis;\n",
    "    }\n",
    "    if ($b != $cols) {return 0;}\n",
    "    return 1;\n",
    "}\n",
    "\n",
    "sub SpecialFacet {\n",
    "    $rows = $_[0]->rows();\n",
    "    $cols = $_[0]->cols();\n",
    "    $b = 0;\n",
    "    \n",
    "    for (my $row = 0; $row < $rows; $row += 1) {\n",
    "        $basis = 1;\n",
    "        $summa = 0;\n",
    "        for (my $col = 0; $col < $cols; $col += 1) {\n",
    "            $elem = $_[0]->elem($row, $col);\n",
    "            $summa += $elem;\n",
    "            if ($elem < 0 or $elem > 1 or $summa > 1) {$basis = 0;}\n",
    "        }\n",
    "        if ($basis == 1 and $summa == 0) {$basis = 0;}\n",
    "        if ($summa > 1) {return 0;}\n",
    "        if ((not $basis) and $summa == 1) {return 0;}\n",
    "        $b = $b + $basis;\n",
    "    }\n",
    "    if ($b != $cols) {return 0;}\n",
    "    \n",
    "    for (my $col = 0; $col < $cols; $col += 1) {\n",
    "        $summa = 0;\n",
    "        for (my $row = 0; $row < $rows; $row += 1) {\n",
    "            $elem = $_[0]->elem($row, $col);\n",
    "            $summa += $elem;\n",
    "        }\n",
    "        if ($summa < 0) {return 0;}\n",
    "    }\n",
    "    return 1;\n",
    "}"
   ]
  },
  {
   "cell_type": "code",
   "execution_count": 5,
   "id": "483819d2",
   "metadata": {
    "scrolled": true
   },
   "outputs": [
    {
     "data": {
      "text/plain": [
       "0\t6\t8\t2\t1\t0\t3\t5\r\n",
       "1\t5\t6\t3\t3\t0\t6\t0\r\n",
       "2\t7\t10\t4\t2\t0\t6\t4\r\n",
       "3\t8\t12\t4\t0\t0\t4\t8\r\n",
       "4\t7\t10\t2\t2\t0\t4\t6\r\n",
       "5\t6\t8\t4\t4\t0\t8\t0\r\n",
       "6\t6\t8\t2\t2\t0\t4\t4\r\n",
       "7\t7\t10\t4\t0\t0\t4\t6\r\n",
       "8\t7\t10\t4\t2\t0\t6\t4\r\n",
       "9\t8\t12\t12\t0\t0\t12\t0\r\n",
       "10\t6\t8\t4\t1\t0\t5\t3\r\n",
       "11\t6\t8\t4\t4\t0\t8\t0\r\n",
       "12\t6\t8\t8\t0\t0\t8\t0\r\n",
       "13\t5\t6\t4\t2\t0\t6\t0\r\n",
       "14\t5\t6\t3\t3\t0\t6\t0\r\n",
       "15\t6\t8\t8\t8\t8\t0\t8\r\n",
       "16\t5\t6\t6\t6\t6\t0\t6\r\n",
       "17\t4\t4\t4\t4\t4\t0\t4"
      ]
     },
     "execution_count": 5,
     "metadata": {},
     "output_type": "execute_result"
    }
   ],
   "source": [
    "print \"P\\t|V|\\t|F|\\t|S|\\t|B|\\t|A|\\t|X|\\t|E|\\n\";\n",
    "\n",
    "$pol_number = 0;\n",
    "foreach my $polytope (@P3) {\n",
    "#for ($pol_number = 7522; $pol_number < 7622; $pol_number += 1) {\n",
    "#for ($pol_number = 72156; $pol_number < 72256; $pol_number += 1) {\n",
    "#    $polytope = load(\"fano-v6d/F.6D.$pol_number.poly\");\n",
    "#    $polytope = load(\"fano-v7d-7/fano.pnew.7D.0$pol_number.poly\");\n",
    "    \n",
    "    $p = polarize($polytope);\n",
    "    $nfacets = $p->N_FACETS;\n",
    "    $nvertices = $p->N_VERTICES;\n",
    "    $vertices = $p->VERTICES;\n",
    "    $facets = $p->VERTICES_IN_FACETS;\n",
    "    $incidence_matrix = dense($facets);\n",
    "    \n",
    "    #print \"Polytope $pol_number\\nVertices\\n\", rows_labeled($vertices), \"\\n\"; # Polytopes/info\n",
    "    #print \"Special Facets: \", $p->SPECIAL_FACETS, \"\\n\\n\"; # Polytopes\n",
    "    \n",
    "    $Sp = 0;\n",
    "    $Bil = 0;\n",
    "    $And = 0;\n",
    "    $Xor = 0;\n",
    "    $Eq = $nfacets;\n",
    "    \n",
    "    @special = ();\n",
    "    @bilateral = ();\n",
    "    \n",
    "    for (my $facet = 0; $facet < $nfacets; $facet += 1) {\n",
    "        @f = ();\n",
    "        for (my $vertex = 0; $vertex < $nvertices; $vertex += 1) {\n",
    "            if ($incidence_matrix->elem($facet, $vertex)) { push(@f, $vertex); }\n",
    "        }\n",
    "        $facet_set = new Set(@f);\n",
    "        \n",
    "        $matrix = $vertices->minor($facet_set, ~[0]);\n",
    "        $inverse_matrix = inv($matrix);\n",
    "        $transformed = $vertices->minor(All, ~[0]) * $inverse_matrix;\n",
    "        #print \"Facet \", $facets->row($facet), \" to basis:\\n$transformed\", \"\\nby matrix\\n\", transpose($inverse_matrix), \"\\n\"; # info\n",
    "        \n",
    "        $sp = SpecialFacet($transformed);\n",
    "        $bil = Bilateral($transformed);\n",
    "        \n",
    "        $Sp += $sp;\n",
    "        $Bil += $bil;\n",
    "        $And += $sp * $bil;\n",
    "        $Xor += ($sp + $bil) % 2;\n",
    "        $Eq -= ($sp + $bil) % 2;\n",
    "        \n",
    "        push(@special, $sp);\n",
    "        push(@bilateral, $bil);\n",
    "    }\n",
    "    \n",
    "    #print \"Sp\\tBil\\tFacet\\n\"; # Polytopes\n",
    "    for (my $facet = 0; $facet < $nfacets; $facet += 1) {\n",
    "        #print \"$special[$facet]\\t$bilateral[$facet]\\t\", $facets->row($facet), \"\\n\"; # Polytopes\n",
    "    }\n",
    "    print \"$pol_number\\t$nvertices\\t$nfacets\\t$Sp\\t$Bil\\t$And\\t$Xor\\t$Eq\\n\"; #conc\n",
    "    #print \"\\n\\n\"; # Polytopes/info\n",
    "    \n",
    "    $pol_number += 1;\n",
    "}"
   ]
  },
  {
   "cell_type": "code",
   "execution_count": 6,
   "id": "cc26aba6",
   "metadata": {},
   "outputs": [
    {
     "data": {
      "text/plain": [
       "11000000\r\n",
       "00000001"
      ]
     },
     "execution_count": 6,
     "metadata": {},
     "output_type": "execute_result"
    }
   ],
   "source": [
    "$p = polarize(load(\"fano-v3d/F.3D.0000.poly\"));\n",
    "$nfacets = $p->N_FACETS;\n",
    "$nvertices = $p->N_VERTICES;\n",
    "$vertices = $p->VERTICES;\n",
    "$facets = $p->VERTICES_IN_FACETS;\n",
    "$incidence_matrix = dense($facets);\n",
    "\n",
    "@special = ();\n",
    "@bilateral = ();\n",
    "\n",
    "for (my $facet = 0; $facet < $nfacets; $facet += 1) {\n",
    "    @f = ();\n",
    "    for (my $vertex = 0; $vertex < $nvertices; $vertex += 1) {\n",
    "        if ($incidence_matrix->elem($facet, $vertex)) { push(@f, $vertex); }\n",
    "    }\n",
    "    $facet_set = new Set(@f);\n",
    "    \n",
    "    $transformed = $vertices->minor(All, ~[0]) * inv($vertices->minor($facet_set, ~[0]));\n",
    "    \n",
    "    push(@special, SpecialFacet($transformed));\n",
    "    push(@bilateral, Bilateral($transformed));\n",
    "}\n",
    "print @special, \"\\n\";\n",
    "print @bilateral, \"\\n\";"
   ]
  },
  {
   "cell_type": "code",
   "execution_count": null,
   "id": "195ade7e",
   "metadata": {},
   "outputs": [],
   "source": []
  }
 ],
 "metadata": {
  "kernelspec": {
   "display_name": "polymake",
   "language": "polymake",
   "name": "polymake"
  },
  "language_info": {
   "codemirror_mode": "perl",
   "file_extension": ".pm",
   "mimetype": "text/x-polymake",
   "name": "polymake"
  }
 },
 "nbformat": 4,
 "nbformat_minor": 5
}
